{
 "cells": [
  {
   "cell_type": "code",
   "execution_count": 8,
   "metadata": {
    "collapsed": true
   },
   "outputs": [],
   "source": [
    "import pandas as pd\n",
    "df1 = pd.read_csv(\"data/04_train_subset.csv\")"
   ]
  },
  {
   "cell_type": "code",
   "execution_count": 3,
   "metadata": {
    "collapsed": false
   },
   "outputs": [
    {
     "data": {
      "text/html": [
       "<div>\n",
       "<table border=\"1\" class=\"dataframe\">\n",
       "  <thead>\n",
       "    <tr style=\"text-align: right;\">\n",
       "      <th></th>\n",
       "      <th>row_id</th>\n",
       "      <th>x</th>\n",
       "      <th>y</th>\n",
       "      <th>accuracy</th>\n",
       "      <th>time</th>\n",
       "      <th>place_id</th>\n",
       "    </tr>\n",
       "  </thead>\n",
       "  <tbody>\n",
       "    <tr>\n",
       "      <th>count</th>\n",
       "      <td>442242.000000</td>\n",
       "      <td>442242.000000</td>\n",
       "      <td>442242.000000</td>\n",
       "      <td>442242.000000</td>\n",
       "      <td>442242.000000</td>\n",
       "      <td>4.422420e+05</td>\n",
       "    </tr>\n",
       "    <tr>\n",
       "      <th>mean</th>\n",
       "      <td>14579359.197548</td>\n",
       "      <td>0.614034</td>\n",
       "      <td>0.628849</td>\n",
       "      <td>82.522158</td>\n",
       "      <td>415847.957829</td>\n",
       "      <td>5.523550e+09</td>\n",
       "    </tr>\n",
       "    <tr>\n",
       "      <th>std</th>\n",
       "      <td>8411903.613730</td>\n",
       "      <td>0.358309</td>\n",
       "      <td>0.365941</td>\n",
       "      <td>112.636814</td>\n",
       "      <td>231575.718193</td>\n",
       "      <td>2.652363e+09</td>\n",
       "    </tr>\n",
       "    <tr>\n",
       "      <th>min</th>\n",
       "      <td>132.000000</td>\n",
       "      <td>0.000000</td>\n",
       "      <td>0.000000</td>\n",
       "      <td>1.000000</td>\n",
       "      <td>11.000000</td>\n",
       "      <td>1.000214e+09</td>\n",
       "    </tr>\n",
       "    <tr>\n",
       "      <th>25%</th>\n",
       "      <td>7295401.500000</td>\n",
       "      <td>0.298000</td>\n",
       "      <td>0.299600</td>\n",
       "      <td>27.000000</td>\n",
       "      <td>200743.000000</td>\n",
       "      <td>3.131575e+09</td>\n",
       "    </tr>\n",
       "    <tr>\n",
       "      <th>50%</th>\n",
       "      <td>14597080.500000</td>\n",
       "      <td>0.595600</td>\n",
       "      <td>0.634200</td>\n",
       "      <td>62.000000</td>\n",
       "      <td>432205.000000</td>\n",
       "      <td>5.545962e+09</td>\n",
       "    </tr>\n",
       "    <tr>\n",
       "      <th>75%</th>\n",
       "      <td>21861414.750000</td>\n",
       "      <td>0.921700</td>\n",
       "      <td>0.962800</td>\n",
       "      <td>76.000000</td>\n",
       "      <td>620755.750000</td>\n",
       "      <td>7.923305e+09</td>\n",
       "    </tr>\n",
       "    <tr>\n",
       "      <th>max</th>\n",
       "      <td>29117949.000000</td>\n",
       "      <td>1.249900</td>\n",
       "      <td>1.249900</td>\n",
       "      <td>1016.000000</td>\n",
       "      <td>786239.000000</td>\n",
       "      <td>9.999855e+09</td>\n",
       "    </tr>\n",
       "  </tbody>\n",
       "</table>\n",
       "</div>"
      ],
      "text/plain": [
       "                row_id              x              y       accuracy  \\\n",
       "count    442242.000000  442242.000000  442242.000000  442242.000000   \n",
       "mean   14579359.197548       0.614034       0.628849      82.522158   \n",
       "std     8411903.613730       0.358309       0.365941     112.636814   \n",
       "min         132.000000       0.000000       0.000000       1.000000   \n",
       "25%     7295401.500000       0.298000       0.299600      27.000000   \n",
       "50%    14597080.500000       0.595600       0.634200      62.000000   \n",
       "75%    21861414.750000       0.921700       0.962800      76.000000   \n",
       "max    29117949.000000       1.249900       1.249900    1016.000000   \n",
       "\n",
       "                time      place_id  \n",
       "count  442242.000000  4.422420e+05  \n",
       "mean   415847.957829  5.523550e+09  \n",
       "std    231575.718193  2.652363e+09  \n",
       "min        11.000000  1.000214e+09  \n",
       "25%    200743.000000  3.131575e+09  \n",
       "50%    432205.000000  5.545962e+09  \n",
       "75%    620755.750000  7.923305e+09  \n",
       "max    786239.000000  9.999855e+09  "
      ]
     },
     "execution_count": 3,
     "metadata": {},
     "output_type": "execute_result"
    }
   ],
   "source": [
    "df1.describe()"
   ]
  },
  {
   "cell_type": "markdown",
   "metadata": {},
   "source": [
    "### Transform time - use script from Kaggle.com\n",
    "https://www.kaggle.com/svpons/facebook-v-predicting-check-ins/grid-plus-classifier\n",
    "\n",
    "Scripts have shown the time to be in minutes, so we expect some repeating pattern at certain hours and day of the week\n",
    "Data is about 2 years"
   ]
  },
  {
   "cell_type": "code",
   "execution_count": 9,
   "metadata": {
    "collapsed": true
   },
   "outputs": [],
   "source": [
    "import numpy as np\n",
    "##time related features (assuming the time = minutes)\n",
    "initial_date = np.datetime64('2014-01-01T01:01',   #Arbitrary decision\n",
    "                             dtype='datetime64[m]') \n",
    "#working on df1  \n",
    "d_times = pd.DatetimeIndex(initial_date + np.timedelta64(int(mn), 'm') \n",
    "                           for mn in df1.time.values)    \n",
    "df1['hour'] = d_times.hour\n",
    "df1['weekday'] = d_times.weekday\n"
   ]
  },
  {
   "cell_type": "code",
   "execution_count": 11,
   "metadata": {
    "collapsed": false
   },
   "outputs": [
    {
     "data": {
      "text/html": [
       "<div>\n",
       "<table border=\"1\" class=\"dataframe\">\n",
       "  <thead>\n",
       "    <tr style=\"text-align: right;\">\n",
       "      <th></th>\n",
       "      <th>row_id</th>\n",
       "      <th>x</th>\n",
       "      <th>y</th>\n",
       "      <th>accuracy</th>\n",
       "      <th>time</th>\n",
       "      <th>place_id</th>\n",
       "      <th>hour</th>\n",
       "      <th>weekday</th>\n",
       "    </tr>\n",
       "  </thead>\n",
       "  <tbody>\n",
       "    <tr>\n",
       "      <th>count</th>\n",
       "      <td>442242.000000</td>\n",
       "      <td>442242.000000</td>\n",
       "      <td>442242.000000</td>\n",
       "      <td>442242.000000</td>\n",
       "      <td>442242.000000</td>\n",
       "      <td>4.422420e+05</td>\n",
       "      <td>442242.000000</td>\n",
       "      <td>442242.000000</td>\n",
       "    </tr>\n",
       "    <tr>\n",
       "      <th>mean</th>\n",
       "      <td>14579359.197548</td>\n",
       "      <td>0.614034</td>\n",
       "      <td>0.628849</td>\n",
       "      <td>82.522158</td>\n",
       "      <td>415847.957829</td>\n",
       "      <td>5.523550e+09</td>\n",
       "      <td>11.424209</td>\n",
       "      <td>3.017135</td>\n",
       "    </tr>\n",
       "    <tr>\n",
       "      <th>std</th>\n",
       "      <td>8411903.613730</td>\n",
       "      <td>0.358309</td>\n",
       "      <td>0.365941</td>\n",
       "      <td>112.636814</td>\n",
       "      <td>231575.718193</td>\n",
       "      <td>2.652363e+09</td>\n",
       "      <td>6.965259</td>\n",
       "      <td>1.988329</td>\n",
       "    </tr>\n",
       "    <tr>\n",
       "      <th>min</th>\n",
       "      <td>132.000000</td>\n",
       "      <td>0.000000</td>\n",
       "      <td>0.000000</td>\n",
       "      <td>1.000000</td>\n",
       "      <td>11.000000</td>\n",
       "      <td>1.000214e+09</td>\n",
       "      <td>0.000000</td>\n",
       "      <td>0.000000</td>\n",
       "    </tr>\n",
       "    <tr>\n",
       "      <th>25%</th>\n",
       "      <td>7295401.500000</td>\n",
       "      <td>0.298000</td>\n",
       "      <td>0.299600</td>\n",
       "      <td>27.000000</td>\n",
       "      <td>200743.000000</td>\n",
       "      <td>3.131575e+09</td>\n",
       "      <td>5.000000</td>\n",
       "      <td>1.000000</td>\n",
       "    </tr>\n",
       "    <tr>\n",
       "      <th>50%</th>\n",
       "      <td>14597080.500000</td>\n",
       "      <td>0.595600</td>\n",
       "      <td>0.634200</td>\n",
       "      <td>62.000000</td>\n",
       "      <td>432205.000000</td>\n",
       "      <td>5.545962e+09</td>\n",
       "      <td>11.000000</td>\n",
       "      <td>3.000000</td>\n",
       "    </tr>\n",
       "    <tr>\n",
       "      <th>75%</th>\n",
       "      <td>21861414.750000</td>\n",
       "      <td>0.921700</td>\n",
       "      <td>0.962800</td>\n",
       "      <td>76.000000</td>\n",
       "      <td>620755.750000</td>\n",
       "      <td>7.923305e+09</td>\n",
       "      <td>17.000000</td>\n",
       "      <td>5.000000</td>\n",
       "    </tr>\n",
       "    <tr>\n",
       "      <th>max</th>\n",
       "      <td>29117949.000000</td>\n",
       "      <td>1.249900</td>\n",
       "      <td>1.249900</td>\n",
       "      <td>1016.000000</td>\n",
       "      <td>786239.000000</td>\n",
       "      <td>9.999855e+09</td>\n",
       "      <td>23.000000</td>\n",
       "      <td>6.000000</td>\n",
       "    </tr>\n",
       "  </tbody>\n",
       "</table>\n",
       "</div>"
      ],
      "text/plain": [
       "                row_id              x              y       accuracy  \\\n",
       "count    442242.000000  442242.000000  442242.000000  442242.000000   \n",
       "mean   14579359.197548       0.614034       0.628849      82.522158   \n",
       "std     8411903.613730       0.358309       0.365941     112.636814   \n",
       "min         132.000000       0.000000       0.000000       1.000000   \n",
       "25%     7295401.500000       0.298000       0.299600      27.000000   \n",
       "50%    14597080.500000       0.595600       0.634200      62.000000   \n",
       "75%    21861414.750000       0.921700       0.962800      76.000000   \n",
       "max    29117949.000000       1.249900       1.249900    1016.000000   \n",
       "\n",
       "                time      place_id           hour        weekday  \n",
       "count  442242.000000  4.422420e+05  442242.000000  442242.000000  \n",
       "mean   415847.957829  5.523550e+09      11.424209       3.017135  \n",
       "std    231575.718193  2.652363e+09       6.965259       1.988329  \n",
       "min        11.000000  1.000214e+09       0.000000       0.000000  \n",
       "25%    200743.000000  3.131575e+09       5.000000       1.000000  \n",
       "50%    432205.000000  5.545962e+09      11.000000       3.000000  \n",
       "75%    620755.750000  7.923305e+09      17.000000       5.000000  \n",
       "max    786239.000000  9.999855e+09      23.000000       6.000000  "
      ]
     },
     "execution_count": 11,
     "metadata": {},
     "output_type": "execute_result"
    }
   ],
   "source": [
    "df1.describe()"
   ]
  },
  {
   "cell_type": "markdown",
   "metadata": {},
   "source": [
    "Naive Bayes will need a significant number of data points for each place_id\n",
    "Having too few also causes errors during cross validation\n",
    "\n",
    "Total number of unique place_ids"
   ]
  },
  {
   "cell_type": "code",
   "execution_count": 33,
   "metadata": {
    "collapsed": false
   },
   "outputs": [
    {
     "data": {
      "text/plain": [
       "7146"
      ]
     },
     "execution_count": 33,
     "metadata": {},
     "output_type": "execute_result"
    }
   ],
   "source": [
    "df1['place_id'] = df1['place_id'].astype(str)\n",
    "len(df1['place_id'].value_counts())"
   ]
  },
  {
   "cell_type": "markdown",
   "metadata": {},
   "source": [
    "On average each location will have how many occuruncies?"
   ]
  },
  {
   "cell_type": "code",
   "execution_count": 35,
   "metadata": {
    "collapsed": false
   },
   "outputs": [
    {
     "data": {
      "text/plain": [
       "61.886649874055415"
      ]
     },
     "execution_count": 35,
     "metadata": {},
     "output_type": "execute_result"
    }
   ],
   "source": [
    "sum(df1['place_id'].value_counts())/ len(df1['place_id'].value_counts())"
   ]
  },
  {
   "cell_type": "markdown",
   "metadata": {},
   "source": [
    "Choose 30 instances as a cutoff"
   ]
  },
  {
   "cell_type": "code",
   "execution_count": 37,
   "metadata": {
    "collapsed": false
   },
   "outputs": [
    {
     "data": {
      "text/plain": [
       "<matplotlib.axes._subplots.AxesSubplot at 0x11651278>"
      ]
     },
     "execution_count": 37,
     "metadata": {},
     "output_type": "execute_result"
    },
    {
     "data": {
      "image/png": "[encoded data removed]",
      "text/plain": [
       "<matplotlib.figure.Figure at 0x9948160>"
      ]
     },
     "metadata": {},
     "output_type": "display_data"
    }
   ],
   "source": [
    "%matplotlib inline\n",
    "df1['place_id'].value_counts().hist()"
   ]
  },
  {
   "cell_type": "code",
   "execution_count": 41,
   "metadata": {
    "collapsed": false
   },
   "outputs": [
    {
     "data": {
      "text/plain": [
       "<matplotlib.axes._subplots.AxesSubplot at 0x1137c908>"
      ]
     },
     "execution_count": 41,
     "metadata": {},
     "output_type": "execute_result"
    },
    {
     "data": {
      "image/png": "[encoded data removed]",
      "text/plain": [
       "<matplotlib.figure.Figure at 0x1137f0b8>"
      ]
     },
     "metadata": {},
     "output_type": "display_data"
    }
   ],
   "source": [
    "#Remove the long tail\n",
    "x = df1['place_id'].value_counts()\n",
    "x = x[x<65]\n",
    "x.hist()"
   ]
  },
  {
   "cell_type": "markdown",
   "metadata": {},
   "source": [
    "Looks like there are lots of entries with only 1 or two check ins\n",
    "\n",
    "We can safely remove occuruncies < 20"
   ]
  },
  {
   "cell_type": "code",
   "execution_count": 47,
   "metadata": {
    "collapsed": false
   },
   "outputs": [],
   "source": [
    "x = df1['place_id'].value_counts()\n",
    "x = x[x<20]\n",
    "x = x.index.values\n",
    "\n",
    "df2 = df1[~df1['place_id'].isin(x) ] # ~ negates the expression \n",
    "#http://stackoverflow.com/questions/12065885/how-to-filter-the-dataframe-rows-of-pandas-by-within-in"
   ]
  },
  {
   "cell_type": "code",
   "execution_count": 48,
   "metadata": {
    "collapsed": false
   },
   "outputs": [
    {
     "data": {
      "text/html": [
       "<div>\n",
       "<table border=\"1\" class=\"dataframe\">\n",
       "  <thead>\n",
       "    <tr style=\"text-align: right;\">\n",
       "      <th></th>\n",
       "      <th>row_id</th>\n",
       "      <th>x</th>\n",
       "      <th>y</th>\n",
       "      <th>accuracy</th>\n",
       "      <th>time</th>\n",
       "      <th>hour</th>\n",
       "      <th>weekday</th>\n",
       "    </tr>\n",
       "  </thead>\n",
       "  <tbody>\n",
       "    <tr>\n",
       "      <th>count</th>\n",
       "      <td>425465.000000</td>\n",
       "      <td>425465.000000</td>\n",
       "      <td>425465.000000</td>\n",
       "      <td>425465.000000</td>\n",
       "      <td>425465.000000</td>\n",
       "      <td>425465.000000</td>\n",
       "      <td>425465.000000</td>\n",
       "    </tr>\n",
       "    <tr>\n",
       "      <th>mean</th>\n",
       "      <td>14579661.846892</td>\n",
       "      <td>0.610733</td>\n",
       "      <td>0.628600</td>\n",
       "      <td>82.325301</td>\n",
       "      <td>414600.703893</td>\n",
       "      <td>11.426343</td>\n",
       "      <td>3.017360</td>\n",
       "    </tr>\n",
       "    <tr>\n",
       "      <th>std</th>\n",
       "      <td>8413262.292556</td>\n",
       "      <td>0.357705</td>\n",
       "      <td>0.366014</td>\n",
       "      <td>110.942260</td>\n",
       "      <td>232067.871460</td>\n",
       "      <td>6.967138</td>\n",
       "      <td>1.988249</td>\n",
       "    </tr>\n",
       "    <tr>\n",
       "      <th>min</th>\n",
       "      <td>132.000000</td>\n",
       "      <td>0.000000</td>\n",
       "      <td>0.000000</td>\n",
       "      <td>1.000000</td>\n",
       "      <td>11.000000</td>\n",
       "      <td>0.000000</td>\n",
       "      <td>0.000000</td>\n",
       "    </tr>\n",
       "    <tr>\n",
       "      <th>25%</th>\n",
       "      <td>7295684.000000</td>\n",
       "      <td>0.295000</td>\n",
       "      <td>0.299300</td>\n",
       "      <td>28.000000</td>\n",
       "      <td>198384.000000</td>\n",
       "      <td>5.000000</td>\n",
       "      <td>1.000000</td>\n",
       "    </tr>\n",
       "    <tr>\n",
       "      <th>50%</th>\n",
       "      <td>14596496.000000</td>\n",
       "      <td>0.590800</td>\n",
       "      <td>0.634000</td>\n",
       "      <td>63.000000</td>\n",
       "      <td>429554.000000</td>\n",
       "      <td>11.000000</td>\n",
       "      <td>3.000000</td>\n",
       "    </tr>\n",
       "    <tr>\n",
       "      <th>75%</th>\n",
       "      <td>21866768.000000</td>\n",
       "      <td>0.916100</td>\n",
       "      <td>0.963400</td>\n",
       "      <td>76.000000</td>\n",
       "      <td>620345.000000</td>\n",
       "      <td>17.000000</td>\n",
       "      <td>5.000000</td>\n",
       "    </tr>\n",
       "    <tr>\n",
       "      <th>max</th>\n",
       "      <td>29117949.000000</td>\n",
       "      <td>1.249900</td>\n",
       "      <td>1.249900</td>\n",
       "      <td>1016.000000</td>\n",
       "      <td>786239.000000</td>\n",
       "      <td>23.000000</td>\n",
       "      <td>6.000000</td>\n",
       "    </tr>\n",
       "  </tbody>\n",
       "</table>\n",
       "</div>"
      ],
      "text/plain": [
       "                row_id              x              y       accuracy  \\\n",
       "count    425465.000000  425465.000000  425465.000000  425465.000000   \n",
       "mean   14579661.846892       0.610733       0.628600      82.325301   \n",
       "std     8413262.292556       0.357705       0.366014     110.942260   \n",
       "min         132.000000       0.000000       0.000000       1.000000   \n",
       "25%     7295684.000000       0.295000       0.299300      28.000000   \n",
       "50%    14596496.000000       0.590800       0.634000      63.000000   \n",
       "75%    21866768.000000       0.916100       0.963400      76.000000   \n",
       "max    29117949.000000       1.249900       1.249900    1016.000000   \n",
       "\n",
       "                time           hour        weekday  \n",
       "count  425465.000000  425465.000000  425465.000000  \n",
       "mean   414600.703893      11.426343       3.017360  \n",
       "std    232067.871460       6.967138       1.988249  \n",
       "min        11.000000       0.000000       0.000000  \n",
       "25%    198384.000000       5.000000       1.000000  \n",
       "50%    429554.000000      11.000000       3.000000  \n",
       "75%    620345.000000      17.000000       5.000000  \n",
       "max    786239.000000      23.000000       6.000000  "
      ]
     },
     "execution_count": 48,
     "metadata": {},
     "output_type": "execute_result"
    }
   ],
   "source": [
    "df2.describe()"
   ]
  },
  {
   "cell_type": "markdown",
   "metadata": {},
   "source": [
    "No more feature engineering, use grid search and cross validation to find good parameters and estimate a score\n",
    "\n",
    "Also need to create the Map3 metric\n",
    "\n",
    "Plus, Time how long the learning and predicting takes"
   ]
  },
  {
   "cell_type": "code",
   "execution_count": 49,
   "metadata": {
    "collapsed": false
   },
   "outputs": [],
   "source": [
    "features = df2[['x', 'y', 'accuracy', 'time', 'hour', 'weekday']]\n",
    "labels = df2['place_id']\n",
    "labels = labels.astype(str) # Might be better to recognise labels as a string rather than integer"
   ]
  },
  {
   "cell_type": "markdown",
   "metadata": {},
   "source": [
    "### Create the Map3 Scorer"
   ]
  },
  {
   "cell_type": "code",
   "execution_count": 104,
   "metadata": {
    "collapsed": true
   },
   "outputs": [],
   "source": [
    "#Taken from\n",
    "#https://github.com/benhamner/Metrics/blob/master/Python/ml_metrics/average_precision.py\n",
    "def apk(actual, predicted, k=3):\n",
    "    \"\"\"\n",
    "    Computes the average precision at k.\n",
    "    This function computes the average prescision at k between two lists of\n",
    "    items.\n",
    "    Parameters\n",
    "    ----------\n",
    "    actual : list\n",
    "             A list of elements that are to be predicted (order doesn't matter)\n",
    "    predicted : list\n",
    "                A list of predicted elements (order does matter)\n",
    "    k : int, optional\n",
    "        The maximum number of predicted elements\n",
    "    Returns\n",
    "    -------\n",
    "    score : double\n",
    "            The average precision at k over the input lists\n",
    "    \"\"\"\n",
    "    if len(predicted)>k:\n",
    "        predicted = predicted[:k]\n",
    "\n",
    "    score = 0.0\n",
    "    num_hits = 0.0\n",
    "\n",
    "    for i,p in enumerate(predicted):\n",
    "        if p in actual and p not in predicted[:i]:\n",
    "            num_hits += 1.0\n",
    "            score += num_hits / (i+1.0)\n",
    "\n",
    "    if not actual:\n",
    "        return 0.0\n",
    "\n",
    "    return score / min(len(actual), k)\n",
    "\n",
    "def mapk(actual, predicted, k=3):\n",
    "    \"\"\"\n",
    "    Computes the mean average precision at k.\n",
    "    This function computes the mean average prescision at k between two lists\n",
    "    of lists of items.\n",
    "    Parameters\n",
    "    ----------\n",
    "    actual : list\n",
    "             A list of lists of elements that are to be predicted \n",
    "             (order doesn't matter in the lists)\n",
    "    predicted : list\n",
    "                A list of lists of predicted elements\n",
    "                (order matters in the lists)\n",
    "    k : int, optional\n",
    "        The maximum number of predicted elements\n",
    "    Returns\n",
    "    -------\n",
    "    score : double\n",
    "            The mean average precision at k over the input lists\n",
    "    \"\"\"\n",
    "    return np.mean([apk(a,p,k) for a,p in zip(actual, predicted)])\n",
    "\n",
    "#Scoring function for scikit learn estimator\n",
    "#Need my own scoring function\n",
    "def my_scoring_func(estimator, X, y):\n",
    "    pass\n",
    "    #x Is a df of eatures\n",
    "    #y is a np or pandas series? list of actuals\n",
    "    #Transform X using the estimator, \n",
    "    result = estimator.predict_proba(X)\n",
    "    labels = estimator.classes_\n",
    "    #select the top three options for each row (in order)\n",
    "    predictions = []\n",
    "    for row in result:\n",
    "        d = {'labels': labels, 'probs': row}\n",
    "        d = pd.DataFrame(d)\n",
    "        #Take the top 3 probs\n",
    "        sorted_df = d.sort('probs', ascending=False)[0:3]\n",
    "        top_3 = sorted_df['labels'].tolist()\n",
    "        predictions.append(top_3)\n",
    "\n",
    "    return mapk(y, predictions) #see above for mapk function\n"
   ]
  },
  {
   "cell_type": "markdown",
   "metadata": {},
   "source": [
    "### Use cross validation to score a Guassian Naive Bayes"
   ]
  },
  {
   "cell_type": "code",
   "execution_count": null,
   "metadata": {
    "collapsed": false
   },
   "outputs": [],
   "source": [
    "from sklearn.naive_bayes import  GaussianNB\n",
    "from sklearn.cross_validation import cross_val_score\n",
    "\n",
    "nb1 = GaussianNB() # Other Naive bayes classifiers are available\n",
    "\n",
    "nb1_score = cross_val_score(nb1, features, labels, scoring = my_scoring_func, cv = 5)\n",
    "\n",
    "#Produces a score for each cross validation fold, average to get a score\n",
    "print(np.mean(nb1_score))"
   ]
  },
  {
   "cell_type": "markdown",
   "metadata": {},
   "source": [
    "\n",
    "### Copy grid search from one of my previous competitions\n"
   ]
  },
  {
   "cell_type": "code",
   "execution_count": 24,
   "metadata": {
    "collapsed": false
   },
   "outputs": [
    {
     "name": "stderr",
     "output_type": "stream",
     "text": [
      "C:\\Anaconda3\\lib\\site-packages\\sklearn\\cross_validation.py:417: Warning: The least populated class in y has only 1 members, which is too few. The minimum number of labels for any class cannot be less than n_folds=5.\n",
      "  % (min_labels, self.n_folds)), Warning)\n"
     ]
    },
    {
     "ename": "KeyboardInterrupt",
     "evalue": "",
     "output_type": "error",
     "traceback": [
      "\u001b[1;31m---------------------------------------------------------------------------\u001b[0m",
      "\u001b[1;31mKeyboardInterrupt\u001b[0m                         Traceback (most recent call last)",
      "\u001b[1;32m<ipython-input-24-bcd3a9d76b00>\u001b[0m in \u001b[0;36m<module>\u001b[1;34m()\u001b[0m\n\u001b[0;32m     11\u001b[0m gs = GridSearchCV(nb1, parameters, cv = 5, scoring = 'roc_auc',\n\u001b[0;32m     12\u001b[0m                               verbose = 3)\n\u001b[1;32m---> 13\u001b[1;33m \u001b[0mgs\u001b[0m\u001b[1;33m.\u001b[0m\u001b[0mfit\u001b[0m\u001b[1;33m(\u001b[0m\u001b[0mfeatures\u001b[0m\u001b[1;33m,\u001b[0m \u001b[0mlabels\u001b[0m\u001b[1;33m)\u001b[0m\u001b[1;33m\u001b[0m\u001b[0m\n\u001b[0m\u001b[0;32m     14\u001b[0m \u001b[1;33m\u001b[0m\u001b[0m\n\u001b[0;32m     15\u001b[0m \u001b[1;31m#Record the output\u001b[0m\u001b[1;33m\u001b[0m\u001b[1;33m\u001b[0m\u001b[0m\n",
      "\u001b[1;32mC:\\Anaconda3\\lib\\site-packages\\sklearn\\grid_search.py\u001b[0m in \u001b[0;36mfit\u001b[1;34m(self, X, y)\u001b[0m\n\u001b[0;32m    730\u001b[0m \u001b[1;33m\u001b[0m\u001b[0m\n\u001b[0;32m    731\u001b[0m         \"\"\"\n\u001b[1;32m--> 732\u001b[1;33m         \u001b[1;32mreturn\u001b[0m \u001b[0mself\u001b[0m\u001b[1;33m.\u001b[0m\u001b[0m_fit\u001b[0m\u001b[1;33m(\u001b[0m\u001b[0mX\u001b[0m\u001b[1;33m,\u001b[0m \u001b[0my\u001b[0m\u001b[1;33m,\u001b[0m \u001b[0mParameterGrid\u001b[0m\u001b[1;33m(\u001b[0m\u001b[0mself\u001b[0m\u001b[1;33m.\u001b[0m\u001b[0mparam_grid\u001b[0m\u001b[1;33m)\u001b[0m\u001b[1;33m)\u001b[0m\u001b[1;33m\u001b[0m\u001b[0m\n\u001b[0m\u001b[0;32m    733\u001b[0m \u001b[1;33m\u001b[0m\u001b[0m\n\u001b[0;32m    734\u001b[0m \u001b[1;33m\u001b[0m\u001b[0m\n",
      "\u001b[1;32mC:\\Anaconda3\\lib\\site-packages\\sklearn\\grid_search.py\u001b[0m in \u001b[0;36m_fit\u001b[1;34m(self, X, y, parameter_iterable)\u001b[0m\n\u001b[0;32m    482\u001b[0m                                  \u001b[1;34m'of samples (%i) than data (X: %i samples)'\u001b[0m\u001b[1;33m\u001b[0m\u001b[0m\n\u001b[0;32m    483\u001b[0m                                  % (len(y), n_samples))\n\u001b[1;32m--> 484\u001b[1;33m         \u001b[0mcv\u001b[0m \u001b[1;33m=\u001b[0m \u001b[0mcheck_cv\u001b[0m\u001b[1;33m(\u001b[0m\u001b[0mcv\u001b[0m\u001b[1;33m,\u001b[0m \u001b[0mX\u001b[0m\u001b[1;33m,\u001b[0m \u001b[0my\u001b[0m\u001b[1;33m,\u001b[0m \u001b[0mclassifier\u001b[0m\u001b[1;33m=\u001b[0m\u001b[0mis_classifier\u001b[0m\u001b[1;33m(\u001b[0m\u001b[0mestimator\u001b[0m\u001b[1;33m)\u001b[0m\u001b[1;33m)\u001b[0m\u001b[1;33m\u001b[0m\u001b[0m\n\u001b[0m\u001b[0;32m    485\u001b[0m \u001b[1;33m\u001b[0m\u001b[0m\n\u001b[0;32m    486\u001b[0m         \u001b[1;32mif\u001b[0m \u001b[0mself\u001b[0m\u001b[1;33m.\u001b[0m\u001b[0mverbose\u001b[0m \u001b[1;33m>\u001b[0m \u001b[1;36m0\u001b[0m\u001b[1;33m:\u001b[0m\u001b[1;33m\u001b[0m\u001b[0m\n",
      "\u001b[1;32mC:\\Anaconda3\\lib\\site-packages\\sklearn\\cross_validation.py\u001b[0m in \u001b[0;36m_check_cv\u001b[1;34m(cv, X, y, classifier, warn_mask)\u001b[0m\n\u001b[0;32m   1604\u001b[0m         \u001b[1;32mif\u001b[0m \u001b[0mclassifier\u001b[0m\u001b[1;33m:\u001b[0m\u001b[1;33m\u001b[0m\u001b[0m\n\u001b[0;32m   1605\u001b[0m             \u001b[1;32mif\u001b[0m \u001b[0mtype_of_target\u001b[0m\u001b[1;33m(\u001b[0m\u001b[0my\u001b[0m\u001b[1;33m)\u001b[0m \u001b[1;32min\u001b[0m \u001b[1;33m[\u001b[0m\u001b[1;34m'binary'\u001b[0m\u001b[1;33m,\u001b[0m \u001b[1;34m'multiclass'\u001b[0m\u001b[1;33m]\u001b[0m\u001b[1;33m:\u001b[0m\u001b[1;33m\u001b[0m\u001b[0m\n\u001b[1;32m-> 1606\u001b[1;33m                 \u001b[0mcv\u001b[0m \u001b[1;33m=\u001b[0m \u001b[0mStratifiedKFold\u001b[0m\u001b[1;33m(\u001b[0m\u001b[0my\u001b[0m\u001b[1;33m,\u001b[0m \u001b[0mcv\u001b[0m\u001b[1;33m,\u001b[0m \u001b[0mindices\u001b[0m\u001b[1;33m=\u001b[0m\u001b[0mneeds_indices\u001b[0m\u001b[1;33m)\u001b[0m\u001b[1;33m\u001b[0m\u001b[0m\n\u001b[0m\u001b[0;32m   1607\u001b[0m             \u001b[1;32melse\u001b[0m\u001b[1;33m:\u001b[0m\u001b[1;33m\u001b[0m\u001b[0m\n\u001b[0;32m   1608\u001b[0m                 \u001b[0mcv\u001b[0m \u001b[1;33m=\u001b[0m \u001b[0mKFold\u001b[0m\u001b[1;33m(\u001b[0m\u001b[0m_num_samples\u001b[0m\u001b[1;33m(\u001b[0m\u001b[0my\u001b[0m\u001b[1;33m)\u001b[0m\u001b[1;33m,\u001b[0m \u001b[0mcv\u001b[0m\u001b[1;33m,\u001b[0m \u001b[0mindices\u001b[0m\u001b[1;33m=\u001b[0m\u001b[0mneeds_indices\u001b[0m\u001b[1;33m)\u001b[0m\u001b[1;33m\u001b[0m\u001b[0m\n",
      "\u001b[1;32mC:\\Anaconda3\\lib\\site-packages\\sklearn\\cross_validation.py\u001b[0m in \u001b[0;36m__init__\u001b[1;34m(self, y, n_folds, indices, shuffle, random_state)\u001b[0m\n\u001b[0;32m    441\u001b[0m                 \u001b[0mtest_split\u001b[0m \u001b[1;33m=\u001b[0m \u001b[0mtest_split\u001b[0m\u001b[1;33m[\u001b[0m\u001b[0mtest_split\u001b[0m \u001b[1;33m<\u001b[0m \u001b[0mlen\u001b[0m\u001b[1;33m(\u001b[0m\u001b[0mlabel_test_folds\u001b[0m\u001b[1;33m)\u001b[0m\u001b[1;33m]\u001b[0m\u001b[1;33m\u001b[0m\u001b[0m\n\u001b[0;32m    442\u001b[0m                 \u001b[0mlabel_test_folds\u001b[0m\u001b[1;33m[\u001b[0m\u001b[0mtest_split\u001b[0m\u001b[1;33m]\u001b[0m \u001b[1;33m=\u001b[0m \u001b[0mtest_fold_idx\u001b[0m\u001b[1;33m\u001b[0m\u001b[0m\n\u001b[1;32m--> 443\u001b[1;33m                 \u001b[0mtest_folds\u001b[0m\u001b[1;33m[\u001b[0m\u001b[0my\u001b[0m \u001b[1;33m==\u001b[0m \u001b[0mlabel\u001b[0m\u001b[1;33m]\u001b[0m \u001b[1;33m=\u001b[0m \u001b[0mlabel_test_folds\u001b[0m\u001b[1;33m\u001b[0m\u001b[0m\n\u001b[0m\u001b[0;32m    444\u001b[0m \u001b[1;33m\u001b[0m\u001b[0m\n\u001b[0;32m    445\u001b[0m         \u001b[0mself\u001b[0m\u001b[1;33m.\u001b[0m\u001b[0mtest_folds\u001b[0m \u001b[1;33m=\u001b[0m \u001b[0mtest_folds\u001b[0m\u001b[1;33m\u001b[0m\u001b[0m\n",
      "\u001b[1;31mKeyboardInterrupt\u001b[0m: "
     ]
    }
   ],
   "source": [
    "from sklearn.naive_bayes import MultinomialNB , GaussianNB\n",
    "from sklearn.grid_search import GridSearchCV\n",
    "#Random forest for us with mulitple cores n_jobs=-1\n",
    "nb1 = MultinomialNB() # Other Naive bayes classifiers are available\n",
    "#The parameters to try. Put n-estimators in the output too\n",
    "parameters = {\n",
    "    'alpha': [0, 0.25, 0.5, 0.75, 1, 1.5], #Smoothing parameer 0=No smoothing, 1=default\n",
    "    'fit_prior ': [True, False]}  #Whether to learn class prior probabilities or not\n",
    "\n",
    "\n",
    "    \n",
    "#Grid search    \n",
    "gs = GridSearchCV(nb1, parameters, cv = 5, scoring = my_scoring_func,\n",
    "                              verbose = 3)\n",
    "gs.fit(features, labels)\n",
    "\n",
    "#Record the output\n",
    "#Initialise arrays\n",
    "gs_scores = []\n",
    "gs_std = []\n",
    "gs_criterion = []\n",
    "gs_n_estimators = []\n",
    "\n",
    "for i in gs.grid_scores_:\n",
    "    gs_scores.append(i.mean_validation_score)\n",
    "    gs_std.append(np.std(i.cv_validation_scores))\n",
    "    gs_criterion.append(i.parameters['criterion'])\n",
    "    gs_n_estimators.append(i.parameters['n_estimators'])\n",
    "grid_search_out = pd.DataFrame({\n",
    "        'roc auc': gs_scores,\n",
    "        'criterions': gs_criterion,\n",
    "        'n estimators': gs_n_estimators\n",
    "    })\n",
    "grid_search_out.to_csv('Output/05_grid_search_results_nb1.csv')\n"
   ]
  },
  {
   "cell_type": "markdown",
   "metadata": {},
   "source": [
    "Above taking a long time, lets see how log one iteration takes"
   ]
  },
  {
   "cell_type": "code",
   "execution_count": 53,
   "metadata": {
    "collapsed": false
   },
   "outputs": [
    {
     "name": "stdout",
     "output_type": "stream",
     "text": [
      "48.65678882598877\n"
     ]
    }
   ],
   "source": [
    "import time\n",
    "from sklearn.naive_bayes import MultinomialNB , GaussianNB\n",
    "nb = MultinomialNB()\n",
    "time_start = time.time()\n",
    "fitted = nb.fit(features, labels)\n",
    "time_end = time.time()\n",
    "#Elapsed time in seconds\n",
    "print(time_end -time_start )\n"
   ]
  },
  {
   "cell_type": "code",
   "execution_count": 57,
   "metadata": {
    "collapsed": false
   },
   "outputs": [
    {
     "name": "stdout",
     "output_type": "stream",
     "text": [
      "30.44375491142273\n"
     ]
    }
   ],
   "source": [
    "import time\n",
    "from sklearn.naive_bayes import MultinomialNB , GaussianNB\n",
    "nb = GaussianNB()\n",
    "time_start = time.time()\n",
    "fitted = nb.fit(features, labels)\n",
    "time_end = time.time()\n",
    "#Elapsed time in seconds\n",
    "print(time_end -time_start )"
   ]
  },
  {
   "cell_type": "code",
   "execution_count": 60,
   "metadata": {
    "collapsed": false
   },
   "outputs": [
    {
     "name": "stdout",
     "output_type": "stream",
     "text": [
      "0.08261489868164062\n"
     ]
    }
   ],
   "source": [
    "time_start = time.time()\n",
    "result = nb.predict_proba(features[0:10])\n",
    "time_end = time.time()\n",
    "print(time_end -time_start )"
   ]
  },
  {
   "cell_type": "code",
   "execution_count": 62,
   "metadata": {
    "collapsed": false
   },
   "outputs": [
    {
     "ename": "AttributeError",
     "evalue": "'numpy.ndarray' object has no attribute 'dim'",
     "output_type": "error",
     "traceback": [
      "\u001b[1;31m---------------------------------------------------------------------------\u001b[0m",
      "\u001b[1;31mAttributeError\u001b[0m                            Traceback (most recent call last)",
      "\u001b[1;32m<ipython-input-62-45a93d4ac837>\u001b[0m in \u001b[0;36m<module>\u001b[1;34m()\u001b[0m\n\u001b[1;32m----> 1\u001b[1;33m \u001b[0mresult\u001b[0m\u001b[1;33m.\u001b[0m\u001b[0mdim\u001b[0m\u001b[1;33m\u001b[0m\u001b[0m\n\u001b[0m",
      "\u001b[1;31mAttributeError\u001b[0m: 'numpy.ndarray' object has no attribute 'dim'"
     ]
    }
   ],
   "source": [
    "result.dim"
   ]
  },
  {
   "cell_type": "code",
   "execution_count": 63,
   "metadata": {
    "collapsed": false
   },
   "outputs": [
    {
     "data": {
      "text/plain": [
       "(10, 2043)"
      ]
     },
     "execution_count": 63,
     "metadata": {},
     "output_type": "execute_result"
    }
   ],
   "source": [
    "result.shape"
   ]
  },
  {
   "cell_type": "code",
   "execution_count": 64,
   "metadata": {
    "collapsed": false
   },
   "outputs": [
    {
     "ename": "AttributeError",
     "evalue": "'numpy.ndarray' object has no attribute 'classes_'",
     "output_type": "error",
     "traceback": [
      "\u001b[1;31m---------------------------------------------------------------------------\u001b[0m",
      "\u001b[1;31mAttributeError\u001b[0m                            Traceback (most recent call last)",
      "\u001b[1;32m<ipython-input-64-015ee9daebd1>\u001b[0m in \u001b[0;36m<module>\u001b[1;34m()\u001b[0m\n\u001b[1;32m----> 1\u001b[1;33m \u001b[0mresult\u001b[0m\u001b[1;33m.\u001b[0m\u001b[0mclasses_\u001b[0m\u001b[1;33m\u001b[0m\u001b[0m\n\u001b[0m",
      "\u001b[1;31mAttributeError\u001b[0m: 'numpy.ndarray' object has no attribute 'classes_'"
     ]
    }
   ],
   "source": [
    "result.classes_"
   ]
  },
  {
   "cell_type": "code",
   "execution_count": 65,
   "metadata": {
    "collapsed": false
   },
   "outputs": [
    {
     "data": {
      "text/plain": [
       "array(['1000213704', '1003598119', '1003835757', ..., '9985211748',\n",
       "       '9988088517', '9994257798'], \n",
       "      dtype='<U10')"
      ]
     },
     "execution_count": 65,
     "metadata": {},
     "output_type": "execute_result"
    }
   ],
   "source": [
    "nb.classes_"
   ]
  },
  {
   "cell_type": "code",
   "execution_count": 67,
   "metadata": {
    "collapsed": false
   },
   "outputs": [
    {
     "ename": "AttributeError",
     "evalue": "'GaussianNB' object has no attribute 'classes'",
     "output_type": "error",
     "traceback": [
      "\u001b[1;31m---------------------------------------------------------------------------\u001b[0m",
      "\u001b[1;31mAttributeError\u001b[0m                            Traceback (most recent call last)",
      "\u001b[1;32m<ipython-input-67-1a29d65e8e35>\u001b[0m in \u001b[0;36m<module>\u001b[1;34m()\u001b[0m\n\u001b[1;32m----> 1\u001b[1;33m \u001b[0mnb\u001b[0m\u001b[1;33m.\u001b[0m\u001b[0mclasses\u001b[0m\u001b[1;33m\u001b[0m\u001b[0m\n\u001b[0m",
      "\u001b[1;31mAttributeError\u001b[0m: 'GaussianNB' object has no attribute 'classes'"
     ]
    }
   ],
   "source": [
    "nb.classes"
   ]
  },
  {
   "cell_type": "code",
   "execution_count": 68,
   "metadata": {
    "collapsed": true
   },
   "outputs": [],
   "source": [
    "test = result[1,:]"
   ]
  },
  {
   "cell_type": "code",
   "execution_count": 69,
   "metadata": {
    "collapsed": false
   },
   "outputs": [
    {
     "data": {
      "text/plain": [
       "(2043,)"
      ]
     },
     "execution_count": 69,
     "metadata": {},
     "output_type": "execute_result"
    }
   ],
   "source": [
    "test.shape"
   ]
  },
  {
   "cell_type": "code",
   "execution_count": 71,
   "metadata": {
    "collapsed": false
   },
   "outputs": [
    {
     "data": {
      "text/plain": [
       "(2043,)"
      ]
     },
     "execution_count": 71,
     "metadata": {},
     "output_type": "execute_result"
    }
   ],
   "source": [
    "test.flatten().shape"
   ]
  },
  {
   "cell_type": "code",
   "execution_count": 72,
   "metadata": {
    "collapsed": false
   },
   "outputs": [
    {
     "data": {
      "text/plain": [
       "(2043,)"
      ]
     },
     "execution_count": 72,
     "metadata": {},
     "output_type": "execute_result"
    }
   ],
   "source": [
    "nb.classes_.shape"
   ]
  },
  {
   "cell_type": "code",
   "execution_count": 74,
   "metadata": {
    "collapsed": false
   },
   "outputs": [],
   "source": [
    "d = {'labels':nb.classes_, 'probs':test}"
   ]
  },
  {
   "cell_type": "code",
   "execution_count": 75,
   "metadata": {
    "collapsed": true
   },
   "outputs": [],
   "source": [
    "d = pd.DataFrame(d)"
   ]
  },
  {
   "cell_type": "code",
   "execution_count": 77,
   "metadata": {
    "collapsed": false
   },
   "outputs": [
    {
     "data": {
      "text/html": [
       "<div>\n",
       "<table border=\"1\" class=\"dataframe\">\n",
       "  <thead>\n",
       "    <tr style=\"text-align: right;\">\n",
       "      <th></th>\n",
       "      <th>labels</th>\n",
       "      <th>probs</th>\n",
       "    </tr>\n",
       "  </thead>\n",
       "  <tbody>\n",
       "    <tr>\n",
       "      <th>0</th>\n",
       "      <td>1000213704</td>\n",
       "      <td>7.769108e-35</td>\n",
       "    </tr>\n",
       "    <tr>\n",
       "      <th>1</th>\n",
       "      <td>1003598119</td>\n",
       "      <td>0.000000e+00</td>\n",
       "    </tr>\n",
       "    <tr>\n",
       "      <th>2</th>\n",
       "      <td>1003835757</td>\n",
       "      <td>7.534254e-08</td>\n",
       "    </tr>\n",
       "    <tr>\n",
       "      <th>3</th>\n",
       "      <td>1006316884</td>\n",
       "      <td>7.961040e-13</td>\n",
       "    </tr>\n",
       "    <tr>\n",
       "      <th>4</th>\n",
       "      <td>1014605271</td>\n",
       "      <td>5.669120e-302</td>\n",
       "    </tr>\n",
       "  </tbody>\n",
       "</table>\n",
       "</div>"
      ],
      "text/plain": [
       "       labels          probs\n",
       "0  1000213704   7.769108e-35\n",
       "1  1003598119   0.000000e+00\n",
       "2  1003835757   7.534254e-08\n",
       "3  1006316884   7.961040e-13\n",
       "4  1014605271  5.669120e-302"
      ]
     },
     "execution_count": 77,
     "metadata": {},
     "output_type": "execute_result"
    }
   ],
   "source": [
    "d.head()"
   ]
  },
  {
   "cell_type": "code",
   "execution_count": 83,
   "metadata": {
    "collapsed": false
   },
   "outputs": [],
   "source": [
    "sorted_df = d.sort('probs', ascending=False)[0:3]"
   ]
  },
  {
   "cell_type": "code",
   "execution_count": 89,
   "metadata": {
    "collapsed": false,
    "scrolled": true
   },
   "outputs": [
    {
     "data": {
      "text/html": [
       "<div>\n",
       "<table border=\"1\" class=\"dataframe\">\n",
       "  <thead>\n",
       "    <tr style=\"text-align: right;\">\n",
       "      <th></th>\n",
       "      <th>labels</th>\n",
       "      <th>probs</th>\n",
       "    </tr>\n",
       "  </thead>\n",
       "  <tbody>\n",
       "    <tr>\n",
       "      <th>1537</th>\n",
       "      <td>8050782732</td>\n",
       "      <td>0.334578</td>\n",
       "    </tr>\n",
       "    <tr>\n",
       "      <th>772</th>\n",
       "      <td>4336423518</td>\n",
       "      <td>0.115117</td>\n",
       "    </tr>\n",
       "    <tr>\n",
       "      <th>267</th>\n",
       "      <td>2154052852</td>\n",
       "      <td>0.102583</td>\n",
       "    </tr>\n",
       "  </tbody>\n",
       "</table>\n",
       "</div>"
      ],
      "text/plain": [
       "          labels     probs\n",
       "1537  8050782732  0.334578\n",
       "772   4336423518  0.115117\n",
       "267   2154052852  0.102583"
      ]
     },
     "execution_count": 89,
     "metadata": {},
     "output_type": "execute_result"
    }
   ],
   "source": [
    "sorted_df"
   ]
  },
  {
   "cell_type": "code",
   "execution_count": 90,
   "metadata": {
    "collapsed": false
   },
   "outputs": [
    {
     "data": {
      "text/plain": [
       "['8050782732', '4336423518', '2154052852']"
      ]
     },
     "execution_count": 90,
     "metadata": {},
     "output_type": "execute_result"
    }
   ],
   "source": [
    "sorted_df['labels'].tolist()"
   ]
  },
  {
   "cell_type": "code",
   "execution_count": 98,
   "metadata": {
    "collapsed": false
   },
   "outputs": [
    {
     "name": "stdout",
     "output_type": "stream",
     "text": [
      "(2043,)\n",
      "(2043,)\n",
      "(2043,)\n",
      "(2043,)\n",
      "(2043,)\n"
     ]
    }
   ],
   "source": [
    "for row in result[0:5]:\n",
    "    print(row.shape)"
   ]
  },
  {
   "cell_type": "code",
   "execution_count": 99,
   "metadata": {
    "collapsed": false
   },
   "outputs": [
    {
     "data": {
      "text/plain": [
       "[[1, 2, 3]]"
      ]
     },
     "execution_count": 99,
     "metadata": {},
     "output_type": "execute_result"
    }
   ],
   "source": [
    "a = [1,2,3]\n",
    "b = [4,5,6]\n",
    "c = []\n",
    "c.append(a)\n",
    "c"
   ]
  },
  {
   "cell_type": "code",
   "execution_count": 100,
   "metadata": {
    "collapsed": true
   },
   "outputs": [],
   "source": [
    "c.append(b)"
   ]
  },
  {
   "cell_type": "code",
   "execution_count": 101,
   "metadata": {
    "collapsed": false
   },
   "outputs": [
    {
     "data": {
      "text/plain": [
       "[[1, 2, 3], [4, 5, 6]]"
      ]
     },
     "execution_count": 101,
     "metadata": {},
     "output_type": "execute_result"
    }
   ],
   "source": [
    "c\n"
   ]
  },
  {
   "cell_type": "code",
   "execution_count": null,
   "metadata": {
    "collapsed": true
   },
   "outputs": [],
   "source": []
  }
 ],
 "metadata": {
  "kernelspec": {
   "display_name": "Python 3",
   "language": "python",
   "name": "python3"
  },
  "language_info": {
   "codemirror_mode": {
    "name": "ipython",
    "version": 3
   },
   "file_extension": ".py",
   "mimetype": "text/x-python",
   "name": "python",
   "nbconvert_exporter": "python",
   "pygments_lexer": "ipython3",
   "version": "3.4.3"
  }
 },
 "nbformat": 4,
 "nbformat_minor": 0
}
