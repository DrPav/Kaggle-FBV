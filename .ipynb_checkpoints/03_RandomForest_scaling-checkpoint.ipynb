{
 "cells": [
  {
   "cell_type": "markdown",
   "metadata": {},
   "source": [
    "## Explore how the size of a grid affects the speed and accuracy of Random Forests\n",
    "\n",
    "First create a Test and Train set for evaluation"
   ]
  },
  {
   "cell_type": "code",
   "execution_count": 2,
   "metadata": {
    "collapsed": false
   },
   "outputs": [],
   "source": [
    "import pandas as pd\n",
    "data_complete = pd.read_csv(\"data/train.csv\")"
   ]
  },
  {
   "cell_type": "code",
   "execution_count": 3,
   "metadata": {
    "collapsed": false
   },
   "outputs": [
    {
     "data": {
      "text/html": [
       "<div>\n",
       "<table border=\"1\" class=\"dataframe\">\n",
       "  <thead>\n",
       "    <tr style=\"text-align: right;\">\n",
       "      <th></th>\n",
       "      <th>row_id</th>\n",
       "      <th>x</th>\n",
       "      <th>y</th>\n",
       "      <th>accuracy</th>\n",
       "      <th>time</th>\n",
       "      <th>place_id</th>\n",
       "    </tr>\n",
       "  </thead>\n",
       "  <tbody>\n",
       "    <tr>\n",
       "      <th>count</th>\n",
       "      <td>29118021.000000</td>\n",
       "      <td>29118021.000000</td>\n",
       "      <td>29118021.000000</td>\n",
       "      <td>29118021.000000</td>\n",
       "      <td>29118021.000000</td>\n",
       "      <td>2.911802e+07</td>\n",
       "    </tr>\n",
       "    <tr>\n",
       "      <th>mean</th>\n",
       "      <td>14559010.000000</td>\n",
       "      <td>4.999770</td>\n",
       "      <td>5.001814</td>\n",
       "      <td>82.849125</td>\n",
       "      <td>417010.364723</td>\n",
       "      <td>5.493787e+09</td>\n",
       "    </tr>\n",
       "    <tr>\n",
       "      <th>std</th>\n",
       "      <td>8405648.775656</td>\n",
       "      <td>2.857601</td>\n",
       "      <td>2.887505</td>\n",
       "      <td>114.751772</td>\n",
       "      <td>231176.146498</td>\n",
       "      <td>2.611088e+09</td>\n",
       "    </tr>\n",
       "    <tr>\n",
       "      <th>min</th>\n",
       "      <td>0.000000</td>\n",
       "      <td>0.000000</td>\n",
       "      <td>0.000000</td>\n",
       "      <td>1.000000</td>\n",
       "      <td>1.000000</td>\n",
       "      <td>1.000016e+09</td>\n",
       "    </tr>\n",
       "    <tr>\n",
       "      <th>25%</th>\n",
       "      <td>7279505.000000</td>\n",
       "      <td>2.534700</td>\n",
       "      <td>2.496700</td>\n",
       "      <td>27.000000</td>\n",
       "      <td>203057.000000</td>\n",
       "      <td>3.222911e+09</td>\n",
       "    </tr>\n",
       "    <tr>\n",
       "      <th>50%</th>\n",
       "      <td>14559010.000000</td>\n",
       "      <td>5.009100</td>\n",
       "      <td>4.988300</td>\n",
       "      <td>62.000000</td>\n",
       "      <td>433922.000000</td>\n",
       "      <td>5.518573e+09</td>\n",
       "    </tr>\n",
       "    <tr>\n",
       "      <th>75%</th>\n",
       "      <td>21838515.000000</td>\n",
       "      <td>7.461400</td>\n",
       "      <td>7.510300</td>\n",
       "      <td>75.000000</td>\n",
       "      <td>620491.000000</td>\n",
       "      <td>7.764307e+09</td>\n",
       "    </tr>\n",
       "    <tr>\n",
       "      <th>max</th>\n",
       "      <td>29118020.000000</td>\n",
       "      <td>10.000000</td>\n",
       "      <td>10.000000</td>\n",
       "      <td>1033.000000</td>\n",
       "      <td>786239.000000</td>\n",
       "      <td>9.999932e+09</td>\n",
       "    </tr>\n",
       "  </tbody>\n",
       "</table>\n",
       "</div>"
      ],
      "text/plain": [
       "                row_id                x                y         accuracy  \\\n",
       "count  29118021.000000  29118021.000000  29118021.000000  29118021.000000   \n",
       "mean   14559010.000000         4.999770         5.001814        82.849125   \n",
       "std     8405648.775656         2.857601         2.887505       114.751772   \n",
       "min           0.000000         0.000000         0.000000         1.000000   \n",
       "25%     7279505.000000         2.534700         2.496700        27.000000   \n",
       "50%    14559010.000000         5.009100         4.988300        62.000000   \n",
       "75%    21838515.000000         7.461400         7.510300        75.000000   \n",
       "max    29118020.000000        10.000000        10.000000      1033.000000   \n",
       "\n",
       "                  time      place_id  \n",
       "count  29118021.000000  2.911802e+07  \n",
       "mean     417010.364723  5.493787e+09  \n",
       "std      231176.146498  2.611088e+09  \n",
       "min           1.000000  1.000016e+09  \n",
       "25%      203057.000000  3.222911e+09  \n",
       "50%      433922.000000  5.518573e+09  \n",
       "75%      620491.000000  7.764307e+09  \n",
       "max      786239.000000  9.999932e+09  "
      ]
     },
     "execution_count": 3,
     "metadata": {},
     "output_type": "execute_result"
    }
   ],
   "source": [
    "data_complete.describe()\n"
   ]
  },
  {
   "cell_type": "code",
   "execution_count": 4,
   "metadata": {
    "collapsed": false
   },
   "outputs": [
    {
     "data": {
      "text/plain": [
       "row_id        int64\n",
       "x           float64\n",
       "y           float64\n",
       "accuracy      int64\n",
       "time          int64\n",
       "place_id      int64\n",
       "dtype: object"
      ]
     },
     "execution_count": 4,
     "metadata": {},
     "output_type": "execute_result"
    }
   ],
   "source": [
    "data_complete.dtypes"
   ]
  },
  {
   "cell_type": "code",
   "execution_count": 4,
   "metadata": {
    "collapsed": false
   },
   "outputs": [
    {
     "data": {
      "text/plain": [
       "row_id        int64\n",
       "x           float64\n",
       "y           float64\n",
       "accuracy      int64\n",
       "time          int64\n",
       "place_id     object\n",
       "dtype: object"
      ]
     },
     "execution_count": 4,
     "metadata": {},
     "output_type": "execute_result"
    }
   ],
   "source": [
    "from sklearn.cross_validation import train_test_split\n",
    "\n",
    "data_complete.place_id = data_complete.place_id.astype(str)\n",
    "data_complete.dtypes\n"
   ]
  },
  {
   "cell_type": "code",
   "execution_count": 6,
   "metadata": {
    "collapsed": false
   },
   "outputs": [
    {
     "data": {
      "text/plain": [
       "0    0\n",
       "1    1\n",
       "2    2\n",
       "3    3\n",
       "4    4\n",
       "Name: row_id, dtype: int64"
      ]
     },
     "execution_count": 6,
     "metadata": {},
     "output_type": "execute_result"
    }
   ],
   "source": [
    "data_complete.row_id.head()"
   ]
  },
  {
   "cell_type": "code",
   "execution_count": 5,
   "metadata": {
    "collapsed": true
   },
   "outputs": [],
   "source": [
    "features = data_complete[['x', 'y', 'accuracy', 'time']]\n",
    "labels = data_complete [['place_id']]\n",
    "\n",
    "features_train, features_test, labels_train, labels_test = train_test_split(\n",
    "    features, labels, test_size=0.33)"
   ]
  },
  {
   "cell_type": "code",
   "execution_count": 8,
   "metadata": {
    "collapsed": false
   },
   "outputs": [
    {
     "data": {
      "text/html": [
       "<div>\n",
       "<table border=\"1\" class=\"dataframe\">\n",
       "  <thead>\n",
       "    <tr style=\"text-align: right;\">\n",
       "      <th></th>\n",
       "      <th>x</th>\n",
       "      <th>y</th>\n",
       "      <th>accuracy</th>\n",
       "      <th>time</th>\n",
       "    </tr>\n",
       "  </thead>\n",
       "  <tbody>\n",
       "    <tr>\n",
       "      <th>10743423</th>\n",
       "      <td>9.1939</td>\n",
       "      <td>3.3142</td>\n",
       "      <td>61</td>\n",
       "      <td>124732</td>\n",
       "    </tr>\n",
       "    <tr>\n",
       "      <th>9783816</th>\n",
       "      <td>4.4860</td>\n",
       "      <td>2.4591</td>\n",
       "      <td>67</td>\n",
       "      <td>769076</td>\n",
       "    </tr>\n",
       "    <tr>\n",
       "      <th>27862384</th>\n",
       "      <td>3.1594</td>\n",
       "      <td>4.8473</td>\n",
       "      <td>63</td>\n",
       "      <td>320115</td>\n",
       "    </tr>\n",
       "    <tr>\n",
       "      <th>11681469</th>\n",
       "      <td>7.4505</td>\n",
       "      <td>7.5245</td>\n",
       "      <td>59</td>\n",
       "      <td>24792</td>\n",
       "    </tr>\n",
       "    <tr>\n",
       "      <th>21398576</th>\n",
       "      <td>9.2399</td>\n",
       "      <td>3.7571</td>\n",
       "      <td>44</td>\n",
       "      <td>303514</td>\n",
       "    </tr>\n",
       "  </tbody>\n",
       "</table>\n",
       "</div>"
      ],
      "text/plain": [
       "               x       y  accuracy    time\n",
       "10743423  9.1939  3.3142        61  124732\n",
       "9783816   4.4860  2.4591        67  769076\n",
       "27862384  3.1594  4.8473        63  320115\n",
       "11681469  7.4505  7.5245        59   24792\n",
       "21398576  9.2399  3.7571        44  303514"
      ]
     },
     "execution_count": 8,
     "metadata": {},
     "output_type": "execute_result"
    }
   ],
   "source": [
    "features_train.head()"
   ]
  },
  {
   "cell_type": "code",
   "execution_count": 9,
   "metadata": {
    "collapsed": false
   },
   "outputs": [
    {
     "data": {
      "text/html": [
       "<div>\n",
       "<table border=\"1\" class=\"dataframe\">\n",
       "  <thead>\n",
       "    <tr style=\"text-align: right;\">\n",
       "      <th></th>\n",
       "      <th>place_id</th>\n",
       "    </tr>\n",
       "  </thead>\n",
       "  <tbody>\n",
       "    <tr>\n",
       "      <th>10743423</th>\n",
       "      <td>2150384489</td>\n",
       "    </tr>\n",
       "    <tr>\n",
       "      <th>9783816</th>\n",
       "      <td>5230331427</td>\n",
       "    </tr>\n",
       "    <tr>\n",
       "      <th>27862384</th>\n",
       "      <td>7862726917</td>\n",
       "    </tr>\n",
       "    <tr>\n",
       "      <th>11681469</th>\n",
       "      <td>5639802423</td>\n",
       "    </tr>\n",
       "    <tr>\n",
       "      <th>21398576</th>\n",
       "      <td>5448746251</td>\n",
       "    </tr>\n",
       "  </tbody>\n",
       "</table>\n",
       "</div>"
      ],
      "text/plain": [
       "            place_id\n",
       "10743423  2150384489\n",
       "9783816   5230331427\n",
       "27862384  7862726917\n",
       "11681469  5639802423\n",
       "21398576  5448746251"
      ]
     },
     "execution_count": 9,
     "metadata": {},
     "output_type": "execute_result"
    }
   ],
   "source": [
    "labels_train.head()"
   ]
  },
  {
   "cell_type": "code",
   "execution_count": 10,
   "metadata": {
    "collapsed": false
   },
   "outputs": [
    {
     "data": {
      "text/plain": [
       "place_id    19509074\n",
       "dtype: int64"
      ]
     },
     "execution_count": 10,
     "metadata": {},
     "output_type": "execute_result"
    }
   ],
   "source": [
    "labels_train.count()"
   ]
  },
  {
   "cell_type": "code",
   "execution_count": 11,
   "metadata": {
    "collapsed": false
   },
   "outputs": [
    {
     "data": {
      "text/plain": [
       "place_id    9608947\n",
       "dtype: int64"
      ]
     },
     "execution_count": 11,
     "metadata": {},
     "output_type": "execute_result"
    }
   ],
   "source": [
    "labels_test.count()"
   ]
  },
  {
   "cell_type": "code",
   "execution_count": 6,
   "metadata": {
    "collapsed": true
   },
   "outputs": [],
   "source": [
    "#A function to take a x and y range and then build and test a random forest\n",
    "import time\n",
    "from sklearn.ensemble import RandomForestClassifier\n",
    "from sklearn import preprocessing\n",
    "\n",
    "def mlExplore(x_range, y_range):\n",
    "    #Filter the data so that the bottom left of the grid is at 5,5\n",
    "    x_filter_train = (features_train.x < 5 + x_range) & (features_train.x > 5)\n",
    "    y_filter_train = (features_train.y < 5 + y_range) & (features_train.y > 5)\n",
    "    filter_train = x_filter_train & y_filter_train\n",
    "    \n",
    "    x_filter_test = (features_test.x < 5 + x_range) & (features_test.x > 5)\n",
    "    y_filter_test = (features_test.y < 5 + y_range) & (features_test.y > 5)\n",
    "    filter_test = x_filter_test & y_filter_test\n",
    "    \n",
    "    grid_features_train = features_train[filter_train]\n",
    "    grid_labels_train = labels_train[filter_train]\n",
    "    \n",
    "    grid_features_test = features_test[filter_test]\n",
    "    grid_labels_test = labels_test[filter_test]\n",
    "    \n",
    "    #Record how long the machine learning takes\n",
    "    time_start = time.time()\n",
    "    \n",
    "    #Convert the labels to an array binary array [n_obs, n_unique_labels]\n",
    "    lb = preprocessing.LabelBinarizer()\n",
    "    all_possible_labels= pd.concat([grid_labels_test, grid_labels_train])\n",
    "    lb_fitted = lb.fit(all_possible_labels)\n",
    "    grid_labels_test = lb_fitted.transform(grid_labels_test)\n",
    "    grid_labels_train = lb_fitted.transform(grid_labels_train)\n",
    "    \n",
    "    #Count the number of points\n",
    "    num_training_obs, num_labels = grid_labels_train.shape\n",
    "    \n",
    "    \n",
    "    \n",
    "    rf = RandomForestClassifier() # defualt random forest\n",
    "    fitted = rf.fit(grid_features_train, grid_labels_train)\n",
    "    score = fitted.score(grid_features_test, grid_labels_test)\n",
    "    \n",
    "    time_end = time.time()\n",
    "    seconds_elapsed = time_end - time_start\n",
    "    \n",
    "\n",
    "    \n",
    "    return(num_training_obs, num_labels, seconds_elapsed, score)\n",
    "    "
   ]
  },
  {
   "cell_type": "code",
   "execution_count": 24,
   "metadata": {
    "collapsed": false
   },
   "outputs": [
    {
     "data": {
      "text/plain": [
       "(815, 147, 0.6701650619506836, 0.1566579634464752)"
      ]
     },
     "execution_count": 24,
     "metadata": {},
     "output_type": "execute_result"
    }
   ],
   "source": [
    "mlExplore(0.5, 0.01) # (x_range, y_range)"
   ]
  },
  {
   "cell_type": "code",
   "execution_count": 25,
   "metadata": {
    "collapsed": false
   },
   "outputs": [
    {
     "data": {
      "text/plain": [
       "(4265, 420, 7.1941258907318115, 0.21037601142313184)"
      ]
     },
     "execution_count": 25,
     "metadata": {},
     "output_type": "execute_result"
    }
   ],
   "source": [
    "mlExplore(0.5, 0.05)\n"
   ]
  },
  {
   "cell_type": "code",
   "execution_count": 26,
   "metadata": {
    "collapsed": false
   },
   "outputs": [
    {
     "data": {
      "text/plain": [
       "(16934, 1030, 80.01214504241943, 0.19116447138361115)"
      ]
     },
     "execution_count": 26,
     "metadata": {},
     "output_type": "execute_result"
    }
   ],
   "source": [
    "mlExplore(1, 0.1)\n",
    "\n"
   ]
  },
  {
   "cell_type": "code",
   "execution_count": 27,
   "metadata": {
    "collapsed": false
   },
   "outputs": [
    {
     "data": {
      "text/plain": [
       "(901, 126, 0.43268489837646484, 0.20634920634920634)"
      ]
     },
     "execution_count": 27,
     "metadata": {},
     "output_type": "execute_result"
    }
   ],
   "source": [
    "mlExplore(0.2, 0.02)"
   ]
  },
  {
   "cell_type": "code",
   "execution_count": 28,
   "metadata": {
    "collapsed": false
   },
   "outputs": [
    {
     "data": {
      "text/plain": [
       "(352, 52, 0.09108400344848633, 0.26506024096385544)"
      ]
     },
     "execution_count": 28,
     "metadata": {},
     "output_type": "execute_result"
    }
   ],
   "source": [
    "mlExplore(0.1, 0.01)"
   ]
  },
  {
   "cell_type": "code",
   "execution_count": 5,
   "metadata": {
    "collapsed": false
   },
   "outputs": [
    {
     "data": {
      "text/plain": [
       "(35068, 1431, 264.20747089385986, 0.20591614014933945)"
      ]
     },
     "execution_count": 5,
     "metadata": {},
     "output_type": "execute_result"
    }
   ],
   "source": [
    "mlExplore(2, 0.1) # Range is about 3 std each way"
   ]
  },
  {
   "cell_type": "code",
   "execution_count": 9,
   "metadata": {
    "collapsed": false
   },
   "outputs": [
    {
     "name": "stdout",
     "output_type": "stream",
     "text": [
      "0.1 (895, 120, 0.4723820686340332, 0.15555555555555556)\n",
      "0.2 (1233, 174, 0.8287239074707031, 0.16718749999999999)\n",
      "0.3 (1538, 213, 1.227100133895874, 0.16326530612244897)\n",
      "0.4 (1809, 256, 1.9787070751190186, 0.16153846153846155)\n",
      "0.5 (2258, 299, 2.6719021797180176, 0.16932624113475178)\n",
      "0.6 (2587, 335, 3.608175039291382, 0.15378670788253476)\n"
     ]
    }
   ],
   "source": [
    "import numpy as np\n",
    "\n",
    "for x_range in np.arange(0.1, 0.7, 0.1):\n",
    "    print(x_range, mlExplore(x_range, 0.03))"
   ]
  },
  {
   "cell_type": "code",
   "execution_count": 10,
   "metadata": {
    "collapsed": false
   },
   "outputs": [
    {
     "name": "stdout",
     "output_type": "stream",
     "text": [
      "0.01 (616, 126, 0.300570011138916, 0.15666666666666668)\n",
      "0.02 (1195, 191, 0.8511979579925537, 0.17348608837970539)\n",
      "0.03 (1809, 256, 1.9568290710449219, 0.16153846153846155)\n",
      "0.04 (2584, 310, 3.080793857574463, 0.18706697459584296)\n"
     ]
    }
   ],
   "source": [
    "for y_range in np.arange(0.01, 0.05, 0.01):\n",
    "    print(y_range, mlExplore(0.4, y_range))"
   ]
  },
  {
   "cell_type": "code",
   "execution_count": 11,
   "metadata": {
    "collapsed": false
   },
   "outputs": [
    {
     "data": {
      "text/plain": [
       "(8482, 638, 22.267502069473267, 0.1765834932821497)"
      ]
     },
     "execution_count": 11,
     "metadata": {},
     "output_type": "execute_result"
    }
   ],
   "source": [
    "mlExplore(1, 0.05)"
   ]
  },
  {
   "cell_type": "code",
   "execution_count": 12,
   "metadata": {
    "collapsed": false
   },
   "outputs": [
    {
     "data": {
      "text/plain": [
       "(15892, 910, 62.901066064834595, 0.21716264751154438)"
      ]
     },
     "execution_count": 12,
     "metadata": {},
     "output_type": "execute_result"
    }
   ],
   "source": [
    "mlExplore(1.5, 0.06)"
   ]
  },
  {
   "cell_type": "code",
   "execution_count": 13,
   "metadata": {
    "collapsed": false
   },
   "outputs": [
    {
     "data": {
      "text/plain": [
       "(2931, 343, 4.030368089675903, 0.1652542372881356)"
      ]
     },
     "execution_count": 13,
     "metadata": {},
     "output_type": "execute_result"
    }
   ],
   "source": [
    "mlExplore(0.75, 0.025)"
   ]
  },
  {
   "cell_type": "code",
   "execution_count": 14,
   "metadata": {
    "collapsed": false
   },
   "outputs": [
    {
     "data": {
      "text/plain": [
       "(6781, 558, 15.852082014083862, 0.16706586826347306)"
      ]
     },
     "execution_count": 14,
     "metadata": {},
     "output_type": "execute_result"
    }
   ],
   "source": [
    "mlExplore(1, 0.04)"
   ]
  },
  {
   "cell_type": "code",
   "execution_count": 15,
   "metadata": {
    "collapsed": false
   },
   "outputs": [
    {
     "data": {
      "text/plain": [
       "(3444, 388, 5.213081121444702, 0.17064439140811455)"
      ]
     },
     "execution_count": 15,
     "metadata": {},
     "output_type": "execute_result"
    }
   ],
   "source": [
    "mlExplore(0.75, 0.03)"
   ]
  },
  {
   "cell_type": "markdown",
   "metadata": {
    "collapsed": true
   },
   "source": [
    "Explore in more robust way\n",
    "Exploratory analysis showed xspread to be 25 times the y spread so we will fix at this ration\n",
    "Loop over a range of values and plot to see where score starts to break down"
   ]
  },
  {
   "cell_type": "code",
   "execution_count": 14,
   "metadata": {
    "collapsed": false
   },
   "outputs": [],
   "source": [
    "import numpy as np\n",
    "xs = [0.75, 0.5, 0.25, 0.1, 0.075, 0.05, 0.04, 0.03]\n",
    "results = {\"range\": xs, \"obs\": [], \"places\": [], \"time\": [], \"score\": []}\n",
    "for x_range in xs:\n",
    "    y_range = x_range / 25.0\n",
    "    a,b,c,d = mlExplore(x_range, y_range)\n",
    "    results[\"obs\"].append(a)\n",
    "    results[\"places\"].append(b)\n",
    "    results[\"time\"].append(round(c,2))\n",
    "    results[\"score\"].append(round(d,2))"
   ]
  },
  {
   "cell_type": "code",
   "execution_count": 15,
   "metadata": {
    "collapsed": false
   },
   "outputs": [
    {
     "data": {
      "text/plain": [
       "{'obs': [3458, 1543, 527, 132, 71, 22, 12, 6],\n",
       " 'places': [388, 224, 90, 27, 17, 6, 4, 3],\n",
       " 'range': [0.75, 0.5, 0.25, 0.1, 0.075, 0.05, 0.04, 0.03],\n",
       " 'score': [0.17999999999999999,\n",
       "  0.17000000000000001,\n",
       "  0.22,\n",
       "  0.32000000000000001,\n",
       "  0.31,\n",
       "  0.42999999999999999,\n",
       "  0.33000000000000002,\n",
       "  0.0],\n",
       " 'time': [5.12, 1.26, 0.19, 0.04, 0.07, 0.02, 0.02, 0.02]}"
      ]
     },
     "execution_count": 15,
     "metadata": {},
     "output_type": "execute_result"
    }
   ],
   "source": [
    "results"
   ]
  },
  {
   "cell_type": "code",
   "execution_count": 29,
   "metadata": {
    "collapsed": false
   },
   "outputs": [
    {
     "data": {
      "text/html": [
       "<div>\n",
       "<table border=\"1\" class=\"dataframe\">\n",
       "  <thead>\n",
       "    <tr style=\"text-align: right;\">\n",
       "      <th></th>\n",
       "      <th>obs</th>\n",
       "      <th>places</th>\n",
       "      <th>range</th>\n",
       "      <th>score</th>\n",
       "      <th>time</th>\n",
       "    </tr>\n",
       "  </thead>\n",
       "  <tbody>\n",
       "    <tr>\n",
       "      <th>0</th>\n",
       "      <td>1543</td>\n",
       "      <td>224</td>\n",
       "      <td>0.500</td>\n",
       "      <td>0.18</td>\n",
       "      <td>1.28</td>\n",
       "    </tr>\n",
       "    <tr>\n",
       "      <th>1</th>\n",
       "      <td>679</td>\n",
       "      <td>121</td>\n",
       "      <td>0.300</td>\n",
       "      <td>0.20</td>\n",
       "      <td>0.31</td>\n",
       "    </tr>\n",
       "    <tr>\n",
       "      <th>2</th>\n",
       "      <td>383</td>\n",
       "      <td>71</td>\n",
       "      <td>0.200</td>\n",
       "      <td>0.24</td>\n",
       "      <td>0.12</td>\n",
       "    </tr>\n",
       "    <tr>\n",
       "      <th>3</th>\n",
       "      <td>132</td>\n",
       "      <td>27</td>\n",
       "      <td>0.100</td>\n",
       "      <td>0.30</td>\n",
       "      <td>0.04</td>\n",
       "    </tr>\n",
       "    <tr>\n",
       "      <th>4</th>\n",
       "      <td>107</td>\n",
       "      <td>24</td>\n",
       "      <td>0.090</td>\n",
       "      <td>0.29</td>\n",
       "      <td>0.03</td>\n",
       "    </tr>\n",
       "    <tr>\n",
       "      <th>5</th>\n",
       "      <td>84</td>\n",
       "      <td>19</td>\n",
       "      <td>0.080</td>\n",
       "      <td>0.32</td>\n",
       "      <td>0.03</td>\n",
       "    </tr>\n",
       "    <tr>\n",
       "      <th>6</th>\n",
       "      <td>55</td>\n",
       "      <td>14</td>\n",
       "      <td>0.070</td>\n",
       "      <td>0.38</td>\n",
       "      <td>0.02</td>\n",
       "    </tr>\n",
       "    <tr>\n",
       "      <th>7</th>\n",
       "      <td>32</td>\n",
       "      <td>11</td>\n",
       "      <td>0.060</td>\n",
       "      <td>0.35</td>\n",
       "      <td>0.02</td>\n",
       "    </tr>\n",
       "    <tr>\n",
       "      <th>8</th>\n",
       "      <td>25</td>\n",
       "      <td>9</td>\n",
       "      <td>0.055</td>\n",
       "      <td>0.23</td>\n",
       "      <td>0.02</td>\n",
       "    </tr>\n",
       "    <tr>\n",
       "      <th>9</th>\n",
       "      <td>22</td>\n",
       "      <td>6</td>\n",
       "      <td>0.050</td>\n",
       "      <td>0.43</td>\n",
       "      <td>0.02</td>\n",
       "    </tr>\n",
       "    <tr>\n",
       "      <th>10</th>\n",
       "      <td>16</td>\n",
       "      <td>4</td>\n",
       "      <td>0.045</td>\n",
       "      <td>0.60</td>\n",
       "      <td>0.02</td>\n",
       "    </tr>\n",
       "  </tbody>\n",
       "</table>\n",
       "</div>"
      ],
      "text/plain": [
       "     obs  places  range  score  time\n",
       "0   1543     224  0.500   0.18  1.28\n",
       "1    679     121  0.300   0.20  0.31\n",
       "2    383      71  0.200   0.24  0.12\n",
       "3    132      27  0.100   0.30  0.04\n",
       "4    107      24  0.090   0.29  0.03\n",
       "5     84      19  0.080   0.32  0.03\n",
       "6     55      14  0.070   0.38  0.02\n",
       "7     32      11  0.060   0.35  0.02\n",
       "8     25       9  0.055   0.23  0.02\n",
       "9     22       6  0.050   0.43  0.02\n",
       "10    16       4  0.045   0.60  0.02"
      ]
     },
     "execution_count": 29,
     "metadata": {},
     "output_type": "execute_result"
    }
   ],
   "source": [
    "import numpy as np\n",
    "xs = [0.5,0.3, 0.2, 0.1, 0.09, 0.08, 0.07,0.06, 0.055, 0.05, 0.045]\n",
    "results = {\"range\": xs, \"obs\": [], \"places\": [], \"time\": [], \"score\": []}\n",
    "for x_range in xs:\n",
    "    y_range = x_range / 25.0\n",
    "    a,b,c,d = mlExplore(x_range, y_range)\n",
    "    results[\"obs\"].append(a)\n",
    "    results[\"places\"].append(b)\n",
    "    results[\"time\"].append(round(c,2))\n",
    "    results[\"score\"].append(round(float(d),2))\n",
    "pd.DataFrame(results)"
   ]
  },
  {
   "cell_type": "markdown",
   "metadata": {},
   "source": [
    "Consider using lots of small square of range 0.075. Remember that the data in the table above will be 30% larger as we split into train and test\n",
    "\n",
    " \n",
    " Possibly create the actual evaluation metric too\n",
    " \n",
    " Possibly make the grid 3d - with accuracy as the 3rd dimension - again set the ratio of the sides of the grid equal to the ration of the features standard deviation for a particular place *Accuracy is not linearly distributed*\n",
    " \n",
    " If each grid is 0.075*0.003 then the number of grids is (10/0.075)*2 x (10/0.003)*2 = 1.8Million (Still less than the number of points? Test set has 8 Million.\n",
    " \n",
    " To execute in spark we will round the x and ys to 0.075 and 0.003 and then group the data to get 1.8Million points and associated string of test_row_ids\n",
    " \n",
    " Building 2 Million Random Forest models might be slow?"
   ]
  },
  {
   "cell_type": "markdown",
   "metadata": {},
   "source": [
    "## Repeat above but time the whole function (including filtering data)"
   ]
  },
  {
   "cell_type": "code",
   "execution_count": 34,
   "metadata": {
    "collapsed": false
   },
   "outputs": [
    {
     "data": {
      "text/plain": [
       "277.77777777777777"
      ]
     },
     "execution_count": 34,
     "metadata": {},
     "output_type": "execute_result"
    }
   ],
   "source": [
    "1e6 / 60/60"
   ]
  },
  {
   "cell_type": "code",
   "execution_count": 35,
   "metadata": {
    "collapsed": false
   },
   "outputs": [
    {
     "data": {
      "text/html": [
       "<div>\n",
       "<table border=\"1\" class=\"dataframe\">\n",
       "  <thead>\n",
       "    <tr style=\"text-align: right;\">\n",
       "      <th></th>\n",
       "      <th>obs</th>\n",
       "      <th>places</th>\n",
       "      <th>range</th>\n",
       "      <th>score</th>\n",
       "      <th>time</th>\n",
       "    </tr>\n",
       "  </thead>\n",
       "  <tbody>\n",
       "    <tr>\n",
       "      <th>0</th>\n",
       "      <td>1543</td>\n",
       "      <td>224</td>\n",
       "      <td>0.500</td>\n",
       "      <td>0.18</td>\n",
       "      <td>3.47</td>\n",
       "    </tr>\n",
       "    <tr>\n",
       "      <th>1</th>\n",
       "      <td>679</td>\n",
       "      <td>121</td>\n",
       "      <td>0.300</td>\n",
       "      <td>0.19</td>\n",
       "      <td>2.12</td>\n",
       "    </tr>\n",
       "    <tr>\n",
       "      <th>2</th>\n",
       "      <td>383</td>\n",
       "      <td>71</td>\n",
       "      <td>0.200</td>\n",
       "      <td>0.22</td>\n",
       "      <td>1.70</td>\n",
       "    </tr>\n",
       "    <tr>\n",
       "      <th>3</th>\n",
       "      <td>132</td>\n",
       "      <td>27</td>\n",
       "      <td>0.100</td>\n",
       "      <td>0.32</td>\n",
       "      <td>1.53</td>\n",
       "    </tr>\n",
       "    <tr>\n",
       "      <th>4</th>\n",
       "      <td>107</td>\n",
       "      <td>24</td>\n",
       "      <td>0.090</td>\n",
       "      <td>0.38</td>\n",
       "      <td>1.46</td>\n",
       "    </tr>\n",
       "    <tr>\n",
       "      <th>5</th>\n",
       "      <td>84</td>\n",
       "      <td>19</td>\n",
       "      <td>0.080</td>\n",
       "      <td>0.38</td>\n",
       "      <td>1.34</td>\n",
       "    </tr>\n",
       "    <tr>\n",
       "      <th>6</th>\n",
       "      <td>55</td>\n",
       "      <td>14</td>\n",
       "      <td>0.070</td>\n",
       "      <td>0.42</td>\n",
       "      <td>1.32</td>\n",
       "    </tr>\n",
       "    <tr>\n",
       "      <th>7</th>\n",
       "      <td>32</td>\n",
       "      <td>11</td>\n",
       "      <td>0.060</td>\n",
       "      <td>0.18</td>\n",
       "      <td>1.54</td>\n",
       "    </tr>\n",
       "    <tr>\n",
       "      <th>8</th>\n",
       "      <td>25</td>\n",
       "      <td>9</td>\n",
       "      <td>0.055</td>\n",
       "      <td>0.23</td>\n",
       "      <td>1.36</td>\n",
       "    </tr>\n",
       "    <tr>\n",
       "      <th>9</th>\n",
       "      <td>22</td>\n",
       "      <td>6</td>\n",
       "      <td>0.050</td>\n",
       "      <td>0.43</td>\n",
       "      <td>1.37</td>\n",
       "    </tr>\n",
       "    <tr>\n",
       "      <th>10</th>\n",
       "      <td>16</td>\n",
       "      <td>4</td>\n",
       "      <td>0.045</td>\n",
       "      <td>0.20</td>\n",
       "      <td>1.39</td>\n",
       "    </tr>\n",
       "  </tbody>\n",
       "</table>\n",
       "</div>"
      ],
      "text/plain": [
       "     obs  places  range  score  time\n",
       "0   1543     224  0.500   0.18  3.47\n",
       "1    679     121  0.300   0.19  2.12\n",
       "2    383      71  0.200   0.22  1.70\n",
       "3    132      27  0.100   0.32  1.53\n",
       "4    107      24  0.090   0.38  1.46\n",
       "5     84      19  0.080   0.38  1.34\n",
       "6     55      14  0.070   0.42  1.32\n",
       "7     32      11  0.060   0.18  1.54\n",
       "8     25       9  0.055   0.23  1.36\n",
       "9     22       6  0.050   0.43  1.37\n",
       "10    16       4  0.045   0.20  1.39"
      ]
     },
     "execution_count": 35,
     "metadata": {},
     "output_type": "execute_result"
    }
   ],
   "source": [
    "#A function to take a x and y range and then build and test a random forest\n",
    "import time\n",
    "from sklearn.ensemble import RandomForestClassifier\n",
    "from sklearn import preprocessing\n",
    "\n",
    "def mlExplore(x_range, y_range):\n",
    "    #Filter the data so that the bottom left of the grid is at 5,5\n",
    "    x_filter_test = (features_test.x < 5 + x_range) & (features_test.x > 5)\n",
    "    y_filter_test = (features_test.y < 5 + y_range) & (features_test.y > 5)\n",
    "    filter_test = x_filter_test & y_filter_test\n",
    "    \n",
    "    grid_features_test = features_test[filter_test]\n",
    "    grid_labels_test = labels_test[filter_test]\n",
    "    \n",
    "    #Record how long the machine learning takes and filtering takes\n",
    "    time_start = time.time()\n",
    "    x_filter_train = (features_train.x < 5 + x_range) & (features_train.x > 5)\n",
    "    y_filter_train = (features_train.y < 5 + y_range) & (features_train.y > 5)\n",
    "    filter_train = x_filter_train & y_filter_train\n",
    "    \n",
    "    grid_features_train = features_train[filter_train]\n",
    "    grid_labels_train = labels_train[filter_train]\n",
    "    \n",
    "   \n",
    "    \n",
    "    #Convert the labels to an array binary array [n_obs, n_unique_labels]\n",
    "    lb = preprocessing.LabelBinarizer()\n",
    "    all_possible_labels= pd.concat([grid_labels_test, grid_labels_train])\n",
    "    lb_fitted = lb.fit(all_possible_labels)\n",
    "    grid_labels_test = lb_fitted.transform(grid_labels_test)\n",
    "    grid_labels_train = lb_fitted.transform(grid_labels_train)\n",
    "    \n",
    "    #Count the number of points\n",
    "    num_training_obs, num_labels = grid_labels_train.shape\n",
    "    \n",
    "    \n",
    "    \n",
    "    rf = RandomForestClassifier() # defualt random forest\n",
    "    fitted = rf.fit(grid_features_train, grid_labels_train)\n",
    "    score = fitted.score(grid_features_test, grid_labels_test)\n",
    "    \n",
    "    time_end = time.time()\n",
    "    seconds_elapsed = time_end - time_start\n",
    "    \n",
    "\n",
    "    \n",
    "    return(num_training_obs, num_labels, seconds_elapsed, score)\n",
    "\n",
    "xs = [0.5,0.3, 0.2, 0.1, 0.09, 0.08, 0.07,0.06, 0.055, 0.05, 0.045]\n",
    "results = {\"range\": xs, \"obs\": [], \"places\": [], \"time\": [], \"score\": []}\n",
    "for x_range in xs:\n",
    "    y_range = x_range / 25.0\n",
    "    a,b,c,d = mlExplore(x_range, y_range)\n",
    "    results[\"obs\"].append(a)\n",
    "    results[\"places\"].append(b)\n",
    "    results[\"time\"].append(round(c,2))\n",
    "    results[\"score\"].append(round(float(d),2))\n",
    "pd.DataFrame(results)\n",
    "    "
   ]
  },
  {
   "cell_type": "markdown",
   "metadata": {},
   "source": [
    "Expect each model to take about 1.5 seconds\n",
    "To train 2 Million of them would take 833 hours!\n",
    "Would need to distribute the problem over a few hundre cores\n",
    "Would cost £40 to compute on microsoft azure"
   ]
  },
  {
   "cell_type": "code",
   "execution_count": 36,
   "metadata": {
    "collapsed": false
   },
   "outputs": [
    {
     "data": {
      "text/plain": [
       "833.3333333333334"
      ]
     },
     "execution_count": 36,
     "metadata": {},
     "output_type": "execute_result"
    }
   ],
   "source": [
    "2e6 * 1.5 /(60*60)"
   ]
  },
  {
   "cell_type": "markdown",
   "metadata": {},
   "source": [
    "### Tune parameters of Random Forest for the small tree with about 100 observations and 20 places to choose from\n",
    " First need to add in the extra variables created from time"
   ]
  },
  {
   "cell_type": "code",
   "execution_count": null,
   "metadata": {
    "collapsed": true
   },
   "outputs": [],
   "source": []
  }
 ],
 "metadata": {
  "kernelspec": {
   "display_name": "Python 3",
   "language": "python",
   "name": "python3"
  },
  "language_info": {
   "codemirror_mode": {
    "name": "ipython",
    "version": 3
   },
   "file_extension": ".py",
   "mimetype": "text/x-python",
   "name": "python",
   "nbconvert_exporter": "python",
   "pygments_lexer": "ipython3",
   "version": "3.4.3"
  }
 },
 "nbformat": 4,
 "nbformat_minor": 0
}
